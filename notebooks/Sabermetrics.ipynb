{
 "cells": [
  {
   "cell_type": "code",
   "execution_count": null,
   "metadata": {},
   "outputs": [],
   "source": [
    "import os\n",
    "os.chdir('/home/megatron/work')\n",
    "\n",
    "import megatron\n",
    "import pandas as pd\n",
    "import numpy as np\n",
    "import sqlite3"
   ]
  },
  {
   "cell_type": "code",
   "execution_count": null,
   "metadata": {},
   "outputs": [],
   "source": [
    "# example using pandas\n",
    "generator = True\n",
    "lahman_file = 'data/lahman_csv/core/Batting.csv'\n",
    "lahman = pd.read_csv(lahman_file)\n",
    "exclude = ['playerID','yearID','stInt','teamID','lgID']\n",
    "\n",
    "if generator:\n",
    "    lahman_generator = megatron.data.PandasGenerator(lahman, 1000, exclude_cols=exclude)\n",
    "else:\n",
    "    lahman_data = megatron.data.PandasData(lahman, exclude_cols=exclude)"
   ]
  },
  {
   "cell_type": "code",
   "execution_count": null,
   "metadata": {},
   "outputs": [],
   "source": [
    "# example using csv\n",
    "generator = True\n",
    "lahman_file = 'data/lahman_csv/core/Batting.csv'\n",
    "exclude = ['playerID','yearID','stInt','teamID','lgID']\n",
    "\n",
    "if generator:\n",
    "    lahman_generator = megatron.data.CSVGenerator(lahman_file, 1000, exclude_cols=exclude)\n",
    "else:\n",
    "    lahman_data = megatron.data.CSVData(lahman_file, exclude_cols=exclude)"
   ]
  },
  {
   "cell_type": "code",
   "execution_count": null,
   "metadata": {},
   "outputs": [],
   "source": [
    "# example using database\n",
    "generator = True\n",
    "lahman_df = pd.read_csv('data/lahman_csv/core/Batting.csv')\n",
    "conn = sqlite3.connect('lahman')\n",
    "conn.execute('DROP TABLE IF EXISTS batting')\n",
    "lahman_df.to_sql('batting', conn, index=False)\n",
    "query = 'SELECT * FROM batting'\n",
    "\n",
    "if generator:\n",
    "    lahman_generator = megatron.data.SQLGenerator(conn, query, 1000)\n",
    "else:\n",
    "    lahman_data = megatron.data.SQLData(conn, query)"
   ]
  },
  {
   "cell_type": "code",
   "execution_count": null,
   "metadata": {},
   "outputs": [],
   "source": [
    "exclude = ['playerID','yearID','stInt','teamID','lgID']\n",
    "inputs = megatron.nodes.from_csv(lahman_file, exclude_cols=exclude, eager=True)\n",
    "\n",
    "fillna = megatron.layers.Impute({np.nan: 0}, name='fillna')\n",
    "inputs = fillna(inputs)\n",
    "inputs = megatron.layers.Cast(np.int)(inputs)\n",
    "\n",
    "# helpers\n",
    "def single_fn(h, d, t, hr):\n",
    "    return h - d - t - hr\n",
    "singles = megatron.layers.Lambda(single_fn, name='Singles')(inputs[['H','2B','3B','HR']])\n",
    "hit_types = megatron.layers.Concatenate('hit_types')([singles] + inputs[['2B','3B','HR']])\n",
    "TB = megatron.layers.Dot(W=np.array([1,2,3,4]), name='TB')(hit_types)\n",
    "\n",
    "# basics\n",
    "PA = megatron.layers.Add(name='PA')(inputs[['AB', 'BB', 'HBP', 'SH', 'SF']])\n",
    "BBp = megatron.layers.Divide(name='BB%')([inputs['BB'], PA])\n",
    "Kp = megatron.layers.Divide(name='K%')([inputs['SO'], PA])\n",
    "def obp(h, bb, hbp, ab, sf):\n",
    "    return megatron.helpers.safe_divide(h + bb + hbp, ab + bb + hbp + sf)\n",
    "OBP = megatron.layers.Lambda(obp, name='OBP')(inputs[['H','BB','HBP','AB','SF']])\n",
    "SLG = megatron.layers.Divide(name='SLG')([TB, inputs['AB']])\n",
    "AVG = megatron.layers.Divide(name='AVG')(inputs[['H', 'AB']])\n",
    "ISO = megatron.layers.Subtract(name='ISO')([SLG, AVG])\n",
    "def babip(h, hr, ab, k, sf):\n",
    "    return megatron.helpers.safe_divide(h - hr, ab - k - hr + sf)\n",
    "BABIP = megatron.layers.Lambda(babip, name='BABIP')(inputs[['H','HR','AB','SO','SF']])\n",
    "\n",
    "outputs = [PA, BBp, Kp, OBP, SLG, AVG, ISO, BABIP]\n",
    "\n",
    "outputs = megatron.nodes.FeatureSet(outputs)\n",
    "outputs = megatron.layers.Lambda(np.round, decimals=2)(outputs)"
   ]
  },
  {
   "cell_type": "code",
   "execution_count": null,
   "metadata": {},
   "outputs": [],
   "source": [
    "P = megatron.Pipeline(inputs, outputs)\n",
    "\n",
    "if generator:\n",
    "    P.fit_generator(lahman_generator)\n",
    "    out = P.transform_generator(lahman_generator, format='dataframe')\n",
    "else:\n",
    "    P.fit(lahman_data)\n",
    "    out = P.transform(lahman_data)\n",
    "    \n",
    "out"
   ]
  },
  {
   "cell_type": "code",
   "execution_count": null,
   "metadata": {},
   "outputs": [],
   "source": [
    "megatron.visuals.pipeline_imsave(P, 'img/sabermetrics.png')\n",
    "megatron.visuals.pipeline_imshow(P)"
   ]
  }
 ],
 "metadata": {
  "kernelspec": {
   "display_name": "Python 3",
   "language": "python",
   "name": "python3"
  },
  "language_info": {
   "codemirror_mode": {
    "name": "ipython",
    "version": 3
   },
   "file_extension": ".py",
   "mimetype": "text/x-python",
   "name": "python",
   "nbconvert_exporter": "python",
   "pygments_lexer": "ipython3",
   "version": "3.6.3"
  }
 },
 "nbformat": 4,
 "nbformat_minor": 2
}
