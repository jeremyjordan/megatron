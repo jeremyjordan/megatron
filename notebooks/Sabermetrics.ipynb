{
 "cells": [
  {
   "cell_type": "code",
   "execution_count": 1,
   "metadata": {},
   "outputs": [],
   "source": [
    "import os\n",
    "os.chdir('/home/megatron/work')\n",
    "\n",
    "import megatron\n",
    "import pandas as pd\n",
    "import numpy as np\n",
    "import sqlite3"
   ]
  },
  {
   "cell_type": "code",
   "execution_count": 2,
   "metadata": {},
   "outputs": [],
   "source": [
    "# example using pandas\n",
    "generator = True\n",
    "lahman_file = 'data/lahman_csv/core/Batting.csv'\n",
    "lahman = pd.read_csv(lahman_file)\n",
    "exclude = ['playerID','yearID','stint','teamID','lgID']\n",
    "\n",
    "if generator:\n",
    "    lahman_generator = megatron.io.generator.PandasGenerator(lahman, 1000,\n",
    "                                                             exclude_cols=exclude)\n",
    "else:\n",
    "    lahman_data = megatron.io.dataset.PandasData(lahman, exclude_cols=exclude)\n",
    "    \n",
    "inputs = megatron.nodes.from_dataframe(lahman, exclude_cols=exclude)"
   ]
  },
  {
   "cell_type": "code",
   "execution_count": 3,
   "metadata": {},
   "outputs": [],
   "source": [
    "# example using csv\n",
    "generator = True\n",
    "lahman_file = 'data/lahman_csv/core/Batting.csv'\n",
    "exclude = ['playerID','yearID','stint','teamID','lgID']\n",
    "\n",
    "if generator:\n",
    "    lahman_generator = megatron.io.generator.CSVGenerator(lahman_file, 1000,\n",
    "                                                          exclude_cols=exclude)\n",
    "else:\n",
    "    lahman_data = megatron.io.dataset.CSVData(lahman_file, exclude_cols=exclude)\n",
    "    \n",
    "inputs = megatron.nodes.from_csv(lahman_file, exclude_cols=exclude, eager=True)"
   ]
  },
  {
   "cell_type": "code",
   "execution_count": null,
   "metadata": {},
   "outputs": [],
   "source": [
    "# example using sql database\n",
    "\n",
    "# make sql database from csv\n",
    "lahman_df = pd.read_csv('data/lahman_csv/core/Batting.csv')\n",
    "conn = sqlite3.connect('lahman')\n",
    "conn.execute('DROP TABLE IF EXISTS batting')\n",
    "lahman_df.to_sql('batting', conn, index=False)\n",
    "\n",
    "generator = True\n",
    "conn = sqlite3.connect('lahman')\n",
    "query = 'SELECT * FROM batting'\n",
    "\n",
    "if generator:\n",
    "    lahman_generator = megatron.io.generator.SQLGenerator(conn, query, 1000)\n",
    "else:\n",
    "    lahman_data = megatron.io.dataset.SQLData(conn, query)\n",
    "    \n",
    "inputs = megatron.nodes.from_sql(conn, query, eager=True)"
   ]
  },
  {
   "cell_type": "code",
   "execution_count": 3,
   "metadata": {},
   "outputs": [],
   "source": [
    "fillna = megatron.layers.Impute({np.nan: 0})\n",
    "inputs = fillna(inputs)\n",
    "inputs = megatron.layers.Cast(np.int)(inputs)\n",
    "\n",
    "# helpers\n",
    "def single_fn(h, d, t, hr):\n",
    "    return h - d - t - hr\n",
    "singles = megatron.layers.Lambda(single_fn)(inputs[['H','2B','3B','HR']], 'Singles')\n",
    "hit_types = megatron.layers.Concatenate()([singles]+inputs[['2B','3B','HR']], 'hit_types')\n",
    "TB = megatron.layers.Dot(W=np.array([1,2,3,4]))(hit_types, 'TB')\n",
    "\n",
    "# basics\n",
    "PA = megatron.layers.Add()(inputs[['AB', 'BB', 'HBP', 'SH', 'SF']], 'PA')\n",
    "BBp = megatron.layers.Divide()([inputs['BB'], PA], 'BBpct')\n",
    "Kp = megatron.layers.Divide()([inputs['SO'], PA], 'Kpct')\n",
    "def obp(h, bb, hbp, ab, sf):\n",
    "    return megatron.helpers.safe_divide(h + bb + hbp, ab + bb + hbp + sf)\n",
    "OBP = megatron.layers.Lambda(obp)(inputs[['H','BB','HBP','AB','SF']], 'OBP')\n",
    "SLG = megatron.layers.Divide()([TB, inputs['AB']], 'SLG')\n",
    "AVG = megatron.layers.Divide()(inputs[['H', 'AB']], 'AVG')\n",
    "ISO = megatron.layers.Subtract()([SLG, AVG], 'ISO')\n",
    "def babip(h, hr, ab, k, sf):\n",
    "    return megatron.helpers.safe_divide(h - hr, ab - k - hr + sf)\n",
    "BABIP = megatron.layers.Lambda(babip)(inputs[['H','HR','AB','SO','SF']], 'BABIP')\n",
    "\n",
    "outputs = [PA, BBp, Kp, OBP, SLG, AVG, ISO, BABIP]\n",
    "\n",
    "outputs = megatron.nodes.FeatureSet(outputs)\n",
    "outputs = megatron.layers.Lambda(np.round, decimals=2)(outputs)"
   ]
  },
  {
   "cell_type": "code",
   "execution_count": 4,
   "metadata": {},
   "outputs": [
    {
     "data": {
      "text/plain": [
       "<generator object Pipeline.transform_generator at 0x7f49f3d8a7d8>"
      ]
     },
     "execution_count": 4,
     "metadata": {},
     "output_type": "execute_result"
    }
   ],
   "source": [
    "P = megatron.Pipeline(inputs, outputs)\n",
    "\n",
    "if generator:\n",
    "    P.fit_generator(lahman_generator)\n",
    "    out = P.transform_generator(lahman_generator, out_type='dataframe')\n",
    "else:\n",
    "    P.fit(lahman_data)\n",
    "    out = P.transform(lahman_data)\n",
    "    \n",
    "out"
   ]
  },
  {
   "cell_type": "code",
   "execution_count": 5,
   "metadata": {},
   "outputs": [
    {
     "data": {
      "text/plain": [
       "(324, 8)"
      ]
     },
     "execution_count": 5,
     "metadata": {},
     "output_type": "execute_result"
    }
   ],
   "source": [
    "next(out).shape\n",
    "# WHY 324 ROWS???"
   ]
  },
  {
   "cell_type": "code",
   "execution_count": 13,
   "metadata": {},
   "outputs": [],
   "source": [
    "sql = P.storage.db.execute(\"SELECT sql FROM sqlite_master WHERE name='pipeline_001';\").fetchone()[0]"
   ]
  },
  {
   "cell_type": "code",
   "execution_count": 54,
   "metadata": {},
   "outputs": [
    {
     "data": {
      "text/plain": [
       "['in_G',\n",
       " 'in_AB',\n",
       " 'in_R',\n",
       " 'in_H',\n",
       " 'in_2B',\n",
       " 'in_3B',\n",
       " 'in_HR',\n",
       " 'in_RBI',\n",
       " 'in_SB',\n",
       " 'in_CS',\n",
       " 'in_BB',\n",
       " 'in_SO',\n",
       " 'in_IBB',\n",
       " 'in_HBP',\n",
       " 'in_SH',\n",
       " 'in_SF',\n",
       " 'in_GIDP',\n",
       " 'out_PA',\n",
       " 'out_BBpct',\n",
       " 'out_Kpct',\n",
       " 'out_OBP',\n",
       " 'out_SLG',\n",
       " 'out_AVG',\n",
       " 'out_ISO',\n",
       " 'out_BABIP']"
      ]
     },
     "execution_count": 54,
     "metadata": {},
     "output_type": "execute_result"
    }
   ],
   "source": [
    "import re\n",
    "[s[1:-1] for s in re.findall(r'`(?:in|out)_[^\\s]+`', sql)]"
   ]
  },
  {
   "cell_type": "code",
   "execution_count": null,
   "metadata": {},
   "outputs": [],
   "source": [
    "megatron.visuals.pipeline_imsave(P, 'img/sabermetrics.png')\n",
    "megatron.visuals.pipeline_imshow(P)"
   ]
  }
 ],
 "metadata": {
  "kernelspec": {
   "display_name": "Python 3",
   "language": "python",
   "name": "python3"
  },
  "language_info": {
   "codemirror_mode": {
    "name": "ipython",
    "version": 3
   },
   "file_extension": ".py",
   "mimetype": "text/x-python",
   "name": "python",
   "nbconvert_exporter": "python",
   "pygments_lexer": "ipython3",
   "version": "3.6.3"
  }
 },
 "nbformat": 4,
 "nbformat_minor": 2
}
