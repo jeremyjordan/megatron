{
 "cells": [
  {
   "cell_type": "code",
   "execution_count": 1,
   "metadata": {},
   "outputs": [],
   "source": [
    "import os\n",
    "os.chdir('/home/piper/work')\n",
    "\n",
    "import numpy as np\n",
    "import megatron"
   ]
  },
  {
   "cell_type": "code",
   "execution_count": 2,
   "metadata": {},
   "outputs": [
    {
     "name": "stdout",
     "output_type": "stream",
     "text": [
      "(45, 5, 10)\n"
     ]
    }
   ],
   "source": [
    "# lazy\n",
    "G = megatron.Graph(cache_dir='megatron/cache')\n",
    "X = megatron.Input(G, 'X', (10,))\n",
    "Y = megatron.Input(G, 'Y', (10,))\n",
    "\n",
    "X1 = megatron.Transformation(megatron.transforms.TimeSeries(window_size=5))(X)\n",
    "Y1 = megatron.Transformation(megatron.transforms.TimeSeries(window_size=5))(Y)\n",
    "Z = megatron.Transformation(megatron.transforms.Add())(X1, Y1)\n",
    "\n",
    "data = {'X': np.random.random((50, 10)),\n",
    "        'Y': np.random.random((50, 10))}\n",
    "\n",
    "result = G.run(Z, data, cache_result=False)\n",
    "print(result.shape)"
   ]
  },
  {
   "cell_type": "code",
   "execution_count": 5,
   "metadata": {},
   "outputs": [
    {
     "name": "stdout",
     "output_type": "stream",
     "text": [
      "(50, 10)\n",
      "(45, 5, 10)\n"
     ]
    }
   ],
   "source": [
    "# eager\n",
    "data = {'X': np.random.random((50, 10)),\n",
    "        'Y': np.random.random((50, 10))}\n",
    "\n",
    "G = megatron.Graph()\n",
    "X = megatron.Input(G, 'X', (10,))(data['X'])\n",
    "Y = megatron.Input(G, 'Y', (10,))(data['Y'])\n",
    "X1 = megatron.Transformation(megatron.transforms.TimeSeries(window_size=5))(X)\n",
    "Y1 = megatron.Transformation(megatron.transforms.TimeSeries(window_size=5))(Y)\n",
    "Z = megatron.Transformation(megatron.transforms.Add())(X1, Y1)\n",
    "print(X.output.shape)\n",
    "print(Z.output.shape)"
   ]
  }
 ],
 "metadata": {
  "kernelspec": {
   "display_name": "Python 3",
   "language": "python",
   "name": "python3"
  },
  "language_info": {
   "codemirror_mode": {
    "name": "ipython",
    "version": 3
   },
   "file_extension": ".py",
   "mimetype": "text/x-python",
   "name": "python",
   "nbconvert_exporter": "python",
   "pygments_lexer": "ipython3",
   "version": "3.6.5"
  }
 },
 "nbformat": 4,
 "nbformat_minor": 2
}
