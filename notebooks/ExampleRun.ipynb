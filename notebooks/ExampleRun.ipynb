{
 "cells": [
  {
   "cell_type": "code",
   "execution_count": 1,
   "metadata": {},
   "outputs": [],
   "source": [
    "import os\n",
    "os.chdir('/home/piper/work')\n",
    "\n",
    "import numpy as np\n",
    "import megatron"
   ]
  },
  {
   "cell_type": "code",
   "execution_count": 2,
   "metadata": {},
   "outputs": [
    {
     "data": {
      "text/plain": [
       "'\\nstart = G.run(X, data)\\nresult = G.run(Z, data)\\nprint(start.shape)\\nprint(result.shape)\\n'"
      ]
     },
     "execution_count": 2,
     "metadata": {},
     "output_type": "execute_result"
    }
   ],
   "source": [
    "# lazy\n",
    "G = megatron.Graph(cache_path='megatron/cache')\n",
    "X = megatron.FeatureSet(G, 'X', 10)\n",
    "Y = megatron.FeatureSet(G, 'Y', 10)\n",
    "\n",
    "Z = megatron.Transformation(megatron.transforms.time_series, window_size=5)(X)\n",
    "\n",
    "data = {'X': np.ones((50, 10)),\n",
    "        'Y': np.ones((50, 10))}\n",
    "\n",
    "\"\"\"\n",
    "start = G.run(X, data)\n",
    "result = G.run(Z, data)\n",
    "print(start.shape)\n",
    "print(result.shape)\n",
    "\"\"\""
   ]
  },
  {
   "cell_type": "code",
   "execution_count": 3,
   "metadata": {},
   "outputs": [
    {
     "name": "stdout",
     "output_type": "stream",
     "text": [
      "Loading node number 1 in path from cache\n"
     ]
    }
   ],
   "source": [
    "start = G.run(Z, data)"
   ]
  },
  {
   "cell_type": "code",
   "execution_count": 4,
   "metadata": {},
   "outputs": [
    {
     "name": "stdout",
     "output_type": "stream",
     "text": [
      "(50, 10)\n",
      "(45, 5, 10)\n"
     ]
    }
   ],
   "source": [
    "# eager\n",
    "data = {'X': np.random.random((50, 10)),\n",
    "        'Y': np.random.random((50, 10))}\n",
    "\n",
    "G = megatron.Graph()\n",
    "X = megatron.FeatureSet(G, 'X', 10)(data['X'])\n",
    "Y = megatron.FeatureSet(G, 'Y', 10)(data['Y'])\n",
    "Z = megatron.Transformation(megatron.transforms.time_series, window_size=5)(X)\n",
    "print(X.output.shape)\n",
    "print(Z.output.shape)"
   ]
  },
  {
   "cell_type": "code",
   "execution_count": 16,
   "metadata": {},
   "outputs": [],
   "source": [
    "np.savez_compressed('test.npz', arr=start)"
   ]
  },
  {
   "cell_type": "code",
   "execution_count": 25,
   "metadata": {},
   "outputs": [],
   "source": [
    "start2 = np.load('test.npz')['arr']"
   ]
  }
 ],
 "metadata": {
  "kernelspec": {
   "display_name": "Python 3",
   "language": "python",
   "name": "python3"
  },
  "language_info": {
   "codemirror_mode": {
    "name": "ipython",
    "version": 3
   },
   "file_extension": ".py",
   "mimetype": "text/x-python",
   "name": "python",
   "nbconvert_exporter": "python",
   "pygments_lexer": "ipython3",
   "version": "3.6.5"
  }
 },
 "nbformat": 4,
 "nbformat_minor": 2
}
