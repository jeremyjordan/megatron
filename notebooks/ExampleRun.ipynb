{
 "cells": [
  {
   "cell_type": "code",
   "execution_count": 1,
   "metadata": {},
   "outputs": [],
   "source": [
    "import os\n",
    "os.chdir('/home/megatron/work')\n",
    "\n",
    "import numpy as np\n",
    "import megatron\n",
    "from sklearn.preprocessing import StandardScaler"
   ]
  },
  {
   "cell_type": "code",
   "execution_count": 2,
   "metadata": {},
   "outputs": [],
   "source": [
    "def _type(X):\n",
    "    return X.__class__.__name__\n",
    "\n",
    "def log():\n",
    "    print(\"X is a {}\".format(_type(X)))\n",
    "    print(\"Y is a {}\".format(_type(Y)))\n",
    "    print(\"T is a {}\".format(_type(T)))\n",
    "    print(\"X1 is a {}\".format(_type(X1)))\n",
    "    print(\"Y1 is a {}\".format(_type(Y1)))\n",
    "    print(\"Z is a {}\".format(_type(Z)))"
   ]
  },
  {
   "cell_type": "code",
   "execution_count": 3,
   "metadata": {},
   "outputs": [
    {
     "name": "stdout",
     "output_type": "stream",
     "text": [
      "(50, 10)\n",
      "X is a Input\n",
      "Y is a Input\n",
      "T is a SklearnTransformation\n",
      "X1 is a Node\n",
      "Y1 is a Node\n",
      "Z is a Node\n"
     ]
    }
   ],
   "source": [
    "# lazy\n",
    "G = megatron.Graph(cache_dir='megatron/cache')\n",
    "X = megatron.Input(G, 'X', (10,))\n",
    "Y = megatron.Input(G, 'Y', (10,))\n",
    "\n",
    "T = megatron.transforms.SklearnTransformation(StandardScaler())\n",
    "#T = megatron.transforms.TimeSeries(window_size=5)\n",
    "X1 = T(X)\n",
    "Y1 = T(Y)\n",
    "Z = megatron.transforms.Add()([X1, Y1])\n",
    "\n",
    "data = {'X': np.random.random((50, 10)),\n",
    "        'Y': np.random.random((50, 10))}\n",
    "\n",
    "result = G.run('Add:0', data, cache_result=True)\n",
    "print(result.shape)\n",
    "log()"
   ]
  },
  {
   "cell_type": "code",
   "execution_count": 5,
   "metadata": {},
   "outputs": [
    {
     "data": {
      "text/plain": [
       "['notebooks',\n",
       " '.gitignore',\n",
       " 'README.md',\n",
       " 'megatron',\n",
       " '.git',\n",
       " '.isroot',\n",
       " 'tests',\n",
       " 'docker']"
      ]
     },
     "execution_count": 5,
     "metadata": {},
     "output_type": "execute_result"
    }
   ],
   "source": [
    "os.listdir()"
   ]
  },
  {
   "cell_type": "code",
   "execution_count": 6,
   "metadata": {},
   "outputs": [
    {
     "name": "stdout",
     "output_type": "stream",
     "text": [
      "(50, 10)\n",
      "(45, 5, 10)\n"
     ]
    }
   ],
   "source": [
    "# eager\n",
    "data = {'X': np.random.random((50, 10)),\n",
    "        'Y': np.random.random((50, 10))}\n",
    "\n",
    "G = megatron.Graph()\n",
    "X = megatron.Input(G, 'X', (10,))(data['X'])\n",
    "Y = megatron.Input(G, 'Y', (10,))(data['Y'])\n",
    "X1 = megatron.transforms.TimeSeries(window_size=5)(X)\n",
    "Y1 = megatron.transforms.TimeSeries(window_size=5)(Y)\n",
    "Z = megatron.transforms.Add()(X1, Y1)\n",
    "\n",
    "print(X.output.shape)\n",
    "print(Z.output.shape)"
   ]
  }
 ],
 "metadata": {
  "kernelspec": {
   "display_name": "Python 3",
   "language": "python",
   "name": "python3"
  },
  "language_info": {
   "codemirror_mode": {
    "name": "ipython",
    "version": 3
   },
   "file_extension": ".py",
   "mimetype": "text/x-python",
   "name": "python",
   "nbconvert_exporter": "python",
   "pygments_lexer": "ipython3",
   "version": "3.6.3"
  }
 },
 "nbformat": 4,
 "nbformat_minor": 2
}
