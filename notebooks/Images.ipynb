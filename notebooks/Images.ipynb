{
 "cells": [
  {
   "cell_type": "code",
   "execution_count": 1,
   "metadata": {},
   "outputs": [
    {
     "name": "stderr",
     "output_type": "stream",
     "text": [
      "Using TensorFlow backend.\n"
     ]
    }
   ],
   "source": [
    "import os\n",
    "os.chdir('/home/megatron/work')\n",
    "\n",
    "import megatron\n",
    "import pandas as pd\n",
    "import numpy as np\n",
    "from keras.layers import Conv2D, Dense, MaxPooling2D, Dropout, Flatten, Input, Add\n",
    "from keras import losses, optimizers\n",
    "from keras.models import Model\n",
    "import pickle\n",
    "import sqlite3"
   ]
  },
  {
   "cell_type": "code",
   "execution_count": 2,
   "metadata": {},
   "outputs": [],
   "source": [
    "inputs = {'X1': Input((48, 48, 1)),\n",
    "          'X2': Input((48, 48, 1))}\n",
    "mid_outputs = {}\n",
    "\n",
    "for input_name, input_node in inputs.items():\n",
    "    X = Conv2D(32, kernel_size=(3, 3),\n",
    "                 activation='relu',\n",
    "                 input_shape=(48, 48, 1))(input_node)\n",
    "    X = Conv2D(64, (3, 3), activation='relu')(X)\n",
    "    X = MaxPooling2D(pool_size=(2, 2))(X)\n",
    "    X = Dropout(0.25)(X)\n",
    "    X = Flatten()(X)\n",
    "    X = Dense(128, activation='relu')(X)\n",
    "    X = Dropout(0.5)(X)\n",
    "    X = Dense(2, activation='softmax')(X)\n",
    "    mid_outputs[input_name] = X\n",
    "    \n",
    "output = Add()([mid_outputs['X1'], mid_outputs['X2']])\n",
    "\n",
    "model = Model(list(inputs.values()), output)\n",
    "\n",
    "model.compile(loss=losses.categorical_crossentropy,\n",
    "              optimizer=optimizers.Adadelta(),\n",
    "              metrics=['accuracy'])"
   ]
  },
  {
   "cell_type": "code",
   "execution_count": 3,
   "metadata": {},
   "outputs": [],
   "source": [
    "data = {'image1': np.random.random((1000, 48, 48, 3)),\n",
    "        'image2': np.random.random((1000, 48, 48, 3)),\n",
    "        'labels': np.random.randint(0, 1, 1000)}\n",
    "\n",
    "bw_layer = megatron.layers.RGBtoGrey(method='luminosity', keep_dim=True)\n",
    "\n",
    "images1 = megatron.nodes.Input('image1', shape=(48, 48, 3))\n",
    "bw_images1 = bw_layer(images1, 'bw_images')\n",
    "\n",
    "images2 = megatron.nodes.Input('image2', shape=(48, 48, 3))\n",
    "bw_images2 = bw_layer(images2, 'bw_images')\n",
    "\n",
    "labels_in = megatron.nodes.Input('labels')\n",
    "labels = megatron.layers.OneHot(max_val=1)(labels_in, 'ohe_labels')\n",
    "\n",
    "preds = megatron.layers.Keras(model)([bw_images1, bw_images2, labels], 'predictor')\n",
    "\n",
    "pipeline = megatron.Pipeline([images1, images2, labels_in], preds, \n",
    "                          name='testkeras', version=0.1,\n",
    "                          storage=sqlite3.connect('megatron_default'))"
   ]
  },
  {
   "cell_type": "code",
   "execution_count": 4,
   "metadata": {},
   "outputs": [],
   "source": [
    "predictions = pipeline.transform(data)"
   ]
  },
  {
   "cell_type": "code",
   "execution_count": 6,
   "metadata": {},
   "outputs": [
    {
     "data": {
      "text/plain": [
       "(1000, 2)"
      ]
     },
     "execution_count": 6,
     "metadata": {},
     "output_type": "execute_result"
    }
   ],
   "source": [
    "predictions['predictor'].shape"
   ]
  },
  {
   "cell_type": "code",
   "execution_count": 7,
   "metadata": {},
   "outputs": [
    {
     "data": {
      "text/plain": [
       "(1, 2)"
      ]
     },
     "execution_count": 7,
     "metadata": {},
     "output_type": "execute_result"
    }
   ],
   "source": [
    "pipeline.storage.read(lookup=['0'])['predictor'].shape"
   ]
  },
  {
   "cell_type": "code",
   "execution_count": 6,
   "metadata": {},
   "outputs": [],
   "source": [
    "pipeline.save('test')"
   ]
  },
  {
   "cell_type": "code",
   "execution_count": 4,
   "metadata": {},
   "outputs": [
    {
     "data": {
      "image/svg+xml": [
       "<svg height=\"191pt\" viewBox=\"0.00 0.00 380.00 191.00\" width=\"380pt\" xmlns=\"http://www.w3.org/2000/svg\" xmlns:xlink=\"http://www.w3.org/1999/xlink\">\n",
       "<g class=\"graph\" id=\"graph0\" transform=\"scale(1 1) rotate(0) translate(4 187)\">\n",
       "<title>G</title>\n",
       "<polygon fill=\"white\" points=\"-4,4 -4,-187 376,-187 376,4 -4,4\" stroke=\"none\"/>\n",
       "<!-- 139938636203456 -->\n",
       "<g class=\"node\" id=\"node1\"><title>139938636203456</title>\n",
       "<polygon fill=\"#b7e3ff\" points=\"39,-146.5 39,-182.5 153,-182.5 153,-146.5 39,-146.5\" stroke=\"black\"/>\n",
       "<text font-family=\"Times,serif\" font-size=\"14.00\" text-anchor=\"middle\" x=\"96\" y=\"-160.8\">image (Input)</text>\n",
       "</g>\n",
       "<!-- 139938636203512 -->\n",
       "<g class=\"node\" id=\"node2\"><title>139938636203512</title>\n",
       "<polygon fill=\"#e8e8e8\" points=\"0,-73.5 0,-109.5 192,-109.5 192,-73.5 0,-73.5\" stroke=\"black\"/>\n",
       "<text font-family=\"Times,serif\" font-size=\"14.00\" text-anchor=\"middle\" x=\"96\" y=\"-87.8\">bw_images (RGBtoGrey)</text>\n",
       "</g>\n",
       "<!-- 139938636203456&#45;&gt;139938636203512 -->\n",
       "<g class=\"edge\" id=\"edge1\"><title>139938636203456-&gt;139938636203512</title>\n",
       "<path d=\"M96,-146.313C96,-138.289 96,-128.547 96,-119.569\" fill=\"none\" stroke=\"black\"/>\n",
       "<polygon fill=\"black\" points=\"99.5001,-119.529 96,-109.529 92.5001,-119.529 99.5001,-119.529\" stroke=\"black\"/>\n",
       "</g>\n",
       "<!-- 139938636203848 -->\n",
       "<g class=\"node\" id=\"node5\"><title>139938636203848</title>\n",
       "<polygon fill=\"#aeffad\" points=\"101,-0.5 101,-36.5 285,-36.5 285,-0.5 101,-0.5\" stroke=\"black\"/>\n",
       "<text font-family=\"Times,serif\" font-size=\"14.00\" text-anchor=\"middle\" x=\"193\" y=\"-14.8\">predictor (KerasModel)</text>\n",
       "</g>\n",
       "<!-- 139938636203512&#45;&gt;139938636203848 -->\n",
       "<g class=\"edge\" id=\"edge4\"><title>139938636203512-&gt;139938636203848</title>\n",
       "<path d=\"M119.481,-73.3129C132.111,-64.0685 147.857,-52.5427 161.534,-42.5321\" fill=\"none\" stroke=\"black\"/>\n",
       "<polygon fill=\"black\" points=\"163.733,-45.2596 169.735,-36.5288 159.599,-39.611 163.733,-45.2596\" stroke=\"black\"/>\n",
       "</g>\n",
       "<!-- 139938636203624 -->\n",
       "<g class=\"node\" id=\"node3\"><title>139938636203624</title>\n",
       "<polygon fill=\"#b7e3ff\" points=\"238.5,-146.5 238.5,-182.5 343.5,-182.5 343.5,-146.5 238.5,-146.5\" stroke=\"black\"/>\n",
       "<text font-family=\"Times,serif\" font-size=\"14.00\" text-anchor=\"middle\" x=\"291\" y=\"-160.8\">label (Input)</text>\n",
       "</g>\n",
       "<!-- 139938636203568 -->\n",
       "<g class=\"node\" id=\"node4\"><title>139938636203568</title>\n",
       "<polygon fill=\"#e8e8e8\" points=\"210,-73.5 210,-109.5 372,-109.5 372,-73.5 210,-73.5\" stroke=\"black\"/>\n",
       "<text font-family=\"Times,serif\" font-size=\"14.00\" text-anchor=\"middle\" x=\"291\" y=\"-87.8\">ohe_labels (OneHot)</text>\n",
       "</g>\n",
       "<!-- 139938636203624&#45;&gt;139938636203568 -->\n",
       "<g class=\"edge\" id=\"edge2\"><title>139938636203624-&gt;139938636203568</title>\n",
       "<path d=\"M291,-146.313C291,-138.289 291,-128.547 291,-119.569\" fill=\"none\" stroke=\"black\"/>\n",
       "<polygon fill=\"black\" points=\"294.5,-119.529 291,-109.529 287.5,-119.529 294.5,-119.529\" stroke=\"black\"/>\n",
       "</g>\n",
       "<!-- 139938636203568&#45;&gt;139938636203848 -->\n",
       "<g class=\"edge\" id=\"edge3\"><title>139938636203568-&gt;139938636203848</title>\n",
       "<path d=\"M267.277,-73.3129C254.517,-64.0685 238.608,-52.5427 224.791,-42.5321\" fill=\"none\" stroke=\"black\"/>\n",
       "<polygon fill=\"black\" points=\"226.656,-39.5615 216.505,-36.5288 222.549,-45.2302 226.656,-39.5615\" stroke=\"black\"/>\n",
       "</g>\n",
       "</g>\n",
       "</svg>"
      ],
      "text/plain": [
       "<IPython.core.display.SVG object>"
      ]
     },
     "execution_count": 4,
     "metadata": {},
     "output_type": "execute_result"
    }
   ],
   "source": [
    "megatron.visuals.pipeline_imsave(pipeline, 'img/keras.png')\n",
    "megatron.visuals.pipeline_imshow(pipeline)"
   ]
  }
 ],
 "metadata": {
  "kernelspec": {
   "display_name": "Python 3",
   "language": "python",
   "name": "python3"
  },
  "language_info": {
   "codemirror_mode": {
    "name": "ipython",
    "version": 3
   },
   "file_extension": ".py",
   "mimetype": "text/x-python",
   "name": "python",
   "nbconvert_exporter": "python",
   "pygments_lexer": "ipython3",
   "version": "3.6.3"
  }
 },
 "nbformat": 4,
 "nbformat_minor": 2
}
