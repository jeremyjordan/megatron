{
 "cells": [
  {
   "cell_type": "code",
   "execution_count": null,
   "metadata": {},
   "outputs": [],
   "source": [
    "import os\n",
    "os.chdir('/home/megatron/work')\n",
    "\n",
    "import megatron\n",
    "import pandas as pd\n",
    "import numpy as np\n",
    "from keras.layers import Conv2D, Dense, MaxPooling2D, Dropout, Flatten, Input, Add\n",
    "from keras import losses, optimizers\n",
    "from keras.models import Model\n",
    "import pickle\n",
    "import sqlite3"
   ]
  },
  {
   "cell_type": "code",
   "execution_count": 1,
   "metadata": {},
   "outputs": [],
   "source": [
    "from PIL import Image"
   ]
  },
  {
   "cell_type": "code",
   "execution_count": 2,
   "metadata": {},
   "outputs": [],
   "source": [
    "from scipy.misc import imsave"
   ]
  },
  {
   "cell_type": "code",
   "execution_count": null,
   "metadata": {},
   "outputs": [],
   "source": [
    "inputs = {'X1': Input((48, 48, 1)),\n",
    "          'X2': Input((48, 48, 1))}\n",
    "mid_outputs = {}\n",
    "\n",
    "for input_name, input_node in inputs.items():\n",
    "    X = Conv2D(32, kernel_size=(3, 3),\n",
    "                 activation='relu',\n",
    "                 input_shape=(48, 48, 1))(input_node)\n",
    "    X = Conv2D(64, (3, 3), activation='relu')(X)\n",
    "    X = MaxPooling2D(pool_size=(2, 2))(X)\n",
    "    X = Dropout(0.25)(X)\n",
    "    X = Flatten()(X)\n",
    "    X = Dense(128, activation='relu')(X)\n",
    "    X = Dropout(0.5)(X)\n",
    "    X = Dense(2, activation='softmax')(X)\n",
    "    mid_outputs[input_name] = X\n",
    "    \n",
    "output = Add()([mid_outputs['X1'], mid_outputs['X2']])\n",
    "\n",
    "model1 = Model(list(inputs.values()), output)\n",
    "\n",
    "model1.compile(loss=losses.categorical_crossentropy,\n",
    "              optimizer=optimizers.Adadelta(),\n",
    "              metrics=['accuracy'])"
   ]
  },
  {
   "cell_type": "code",
   "execution_count": null,
   "metadata": {},
   "outputs": [],
   "source": [
    "inputs = {'image_pred': Input((2,)),\n",
    "          'next_image': Input((48, 48, 1))}\n",
    "\n",
    "imageX = Conv2D(32, kernel_size=(3, 3),\n",
    "             activation='relu',\n",
    "             input_shape=(48, 48, 1))(inputs['next_image'])\n",
    "imageX = Conv2D(64, (3, 3), activation='relu')(imageX)\n",
    "imageX = MaxPooling2D(pool_size=(2, 2))(imageX)\n",
    "imageX = Dropout(0.25)(imageX)\n",
    "imageX = Flatten()(imageX)\n",
    "imageX = Dense(128, activation='relu')(imageX)\n",
    "imageX = Dropout(0.5)(imageX)\n",
    "imageX = Dense(2, activation='softmax')(imageX)\n",
    "\n",
    "output = Add()([inputs['image_pred'], imageX])\n",
    "\n",
    "model2 = Model(list(inputs.values()), output)\n",
    "model2.compile(loss=losses.categorical_crossentropy,\n",
    "               optimizer=optimizers.Adadelta(),\n",
    "               metrics=['accuracy'])"
   ]
  },
  {
   "cell_type": "code",
   "execution_count": null,
   "metadata": {},
   "outputs": [],
   "source": [
    "def data_generator(n_obs):\n",
    "    while True:\n",
    "        yield {'image1': np.random.random((n_obs, 48, 48, 3)),\n",
    "               'image2': np.random.random((n_obs, 48, 48, 3)),\n",
    "               'image3': np.random.random((n_obs, 48, 48, 3)),\n",
    "               'label1': np.random.randint(0, 2, n_obs),\n",
    "               'label2': np.random.randint(0, 2, n_obs)\n",
    "              }"
   ]
  },
  {
   "cell_type": "code",
   "execution_count": null,
   "metadata": {},
   "outputs": [],
   "source": [
    "generator = True\n",
    "\n",
    "if generator:\n",
    "    data = data_generator(32)\n",
    "else:\n",
    "    data = {'image1': np.random.random((1000, 48, 48, 3)),\n",
    "            'image2': np.random.random((1000, 48, 48, 3)),\n",
    "            'image3': np.random.random((1000, 48, 48, 3)),\n",
    "            'label1': np.random.randint(0, 2, 1000),\n",
    "            'label2': np.random.randint(0, 2, 1000)}\n",
    "\n",
    "bw_layer = megatron.layers.RGBtoGrey(method='luminosity', keep_dim=True)\n",
    "\n",
    "image1 = megatron.nodes.Input('image1', shape=(48, 48, 3))\n",
    "bw_image1 = bw_layer(image1, 'bw_image')\n",
    "\n",
    "image2 = megatron.nodes.Input('image2', shape=(48, 48, 3))\n",
    "bw_image2 = bw_layer(image2, 'bw_image')\n",
    "\n",
    "label1_in = megatron.nodes.Input('label1')\n",
    "label1 = megatron.layers.OneHotRange(max_val=1)(label1_in, 'ohe_label1')\n",
    "\n",
    "model1_layer = megatron.layers.Keras(model1)\n",
    "pred1 = model1_layer([bw_image1, bw_image2, label1], 'predictor1')\n",
    "\n",
    "image3 = megatron.nodes.Input('image3', shape=(48, 48, 3))\n",
    "bw_image3 = bw_layer(image3, 'bw_image')\n",
    "\n",
    "label2_in = megatron.nodes.Input('label2')\n",
    "label2 = megatron.layers.OneHotRange(max_val=1)(label2_in, 'ohe_label2')\n",
    "\n",
    "model2_layer = megatron.layers.Keras(model2)\n",
    "pred2 = model2_layer([pred1, bw_image3, label2], 'predictor2')\n",
    "\n",
    "storage = None if generator else sqlite3.connect('megatron_default')\n",
    "pipeline = megatron.Pipeline([image1, image2, image3, label1_in, label2_in], pred2,\n",
    "                          name='testkeras', version=0.1,\n",
    "                          storage=storage)"
   ]
  },
  {
   "cell_type": "code",
   "execution_count": null,
   "metadata": {},
   "outputs": [],
   "source": [
    "if generator:\n",
    "    pipeline.fit_generator(data, steps_per_epoch=5, epochs=2)\n",
    "    predictions = pipeline.transform_generator(data)\n",
    "else:\n",
    "    pipeline.fit(data)\n",
    "    predictions = pipeline.transform(data)"
   ]
  },
  {
   "cell_type": "code",
   "execution_count": null,
   "metadata": {},
   "outputs": [],
   "source": [
    "predictions['predictor2'].shape"
   ]
  },
  {
   "cell_type": "code",
   "execution_count": null,
   "metadata": {},
   "outputs": [],
   "source": [
    "next(predictions)['predictor2'].shape"
   ]
  },
  {
   "cell_type": "code",
   "execution_count": null,
   "metadata": {},
   "outputs": [],
   "source": [
    "pipeline.storage.read(lookup=['0'])['predictor'].shape"
   ]
  },
  {
   "cell_type": "code",
   "execution_count": null,
   "metadata": {},
   "outputs": [],
   "source": [
    "pipeline.save('test')"
   ]
  },
  {
   "cell_type": "code",
   "execution_count": null,
   "metadata": {},
   "outputs": [],
   "source": [
    "megatron.visuals.pipeline_imsave(pipeline, 'img/keras.png')\n",
    "megatron.visuals.pipeline_imshow(pipeline)"
   ]
  }
 ],
 "metadata": {
  "kernelspec": {
   "display_name": "Python 3",
   "language": "python",
   "name": "python3"
  },
  "language_info": {
   "codemirror_mode": {
    "name": "ipython",
    "version": 3
   },
   "file_extension": ".py",
   "mimetype": "text/x-python",
   "name": "python",
   "nbconvert_exporter": "python",
   "pygments_lexer": "ipython3",
   "version": "3.6.3"
  }
 },
 "nbformat": 4,
 "nbformat_minor": 2
}
